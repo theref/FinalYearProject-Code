{
 "cells": [
  {
   "cell_type": "code",
   "execution_count": 52,
   "metadata": {
    "collapsed": false
   },
   "outputs": [],
   "source": [
    "from multiprocessing import Pool\n",
    "from itertools import product\n",
    "import numpy as np\n",
    "\n",
    "import axelrod as axl\n",
    "from axelrod.strategy_transformers import MixedTransformer\n",
    "\n",
    "states = [('C', 'C'), ('C', 'D'), ('D', 'C'), ('D', 'D')]\n",
    "scores = {('C', 'C'):3,\n",
    "          ('C', 'D'):0,\n",
    "          ('D', 'C'):5,\n",
    "          ('D', 'D'):1}\n",
    "\n",
    "\n",
    "def coordinate_to_value(coords):\n",
    "    strategies = [axl.Cooperator, axl.Defector]\n",
    "    probe_strategy =  MixedTransformer(coords, strategies)(axl.TitForTat)\n",
    "    players = (probe_strategy(), axl.WinStayLoseShift())\n",
    "    match = axl.Match(players, 50)\n",
    "    match.play()\n",
    "    \n",
    "    dist = dict(match.normalised_state_distribution())\n",
    "    try:\n",
    "        score = sum([scores[state] * dist[state] for state in states])\n",
    "    except:\n",
    "        score = 0\n",
    "    \n",
    "    return coords, score\n",
    "\n",
    "\n",
    "granularity = 0.05\n",
    "coordinates = list(product(np.arange(0,1, granularity), np.arange(0,1, granularity)))\n",
    "p = Pool(4)\n",
    "scores = p.map(coordinate_to_value, coordinates)"
   ]
  },
  {
   "cell_type": "code",
   "execution_count": 53,
   "metadata": {
    "collapsed": false
   },
   "outputs": [
    {
     "data": {
      "image/png": "[encoded data removed]",
      "text/plain": [
       "<matplotlib.figure.Figure at 0x10a45aeb8>"
      ]
     },
     "metadata": {},
     "output_type": "display_data"
    }
   ],
   "source": [
    "%matplotlib inline\n",
    "import matplotlib.pyplot as plt\n",
    "import seaborn as sns\n",
    "scores.sort()\n",
    "xs = set([i[0][0] for i in scores])\n",
    "ys = set([i[0][1] for i in scores])\n",
    "values = np.array([i[1] for i in scores])\n",
    "\n",
    "clean_data = np.array(values).reshape(len(xs), len(ys))\n",
    "\n",
    "sns.heatmap(clean_data, xticklabels=2, yticklabels=False)\n",
    "plt.show()"
   ]
  },
  {
   "cell_type": "code",
   "execution_count": null,
   "metadata": {
    "collapsed": true
   },
   "outputs": [],
   "source": []
  }
 ],
 "metadata": {
  "kernelspec": {
   "display_name": "Python 3",
   "language": "python",
   "name": "python3"
  },
  "language_info": {
   "codemirror_mode": {
    "name": "ipython",
    "version": 3
   },
   "file_extension": ".py",
   "mimetype": "text/x-python",
   "name": "python",
   "nbconvert_exporter": "python",
   "pygments_lexer": "ipython3",
   "version": "3.5.2"
  }
 },
 "nbformat": 4,
 "nbformat_minor": 1
}
